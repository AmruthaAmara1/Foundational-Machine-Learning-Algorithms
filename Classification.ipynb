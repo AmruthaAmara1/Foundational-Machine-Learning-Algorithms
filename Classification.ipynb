# IRIS Data set downloaded from below url
# https://machinelearningmastery.com/standard-machine-learning-datasets/

#Models - https://scikit-learn.org/stable/modules/neighbors.html

import numpy as np
import pandas as pd
import matplotlib.pyplot as plt

#Data processing
iris_data = pd.read_csv("iris.data.txt")
#print(iris_data.head())
data_X = iris_data.iloc[:, :4]
#print(data_X.head())
data_Y = iris_data.iloc[:, 4]
#print(data_Y.head())

#Train Test Split
from sklearn.model_selection import train_test_split
X_train,x_test,Y_train,y_test = train_test_split(data_X,data_Y,test_size=0.2)

#Logistic Regression
from sklearn.linear_model import LogisticRegression
model = LogisticRegression()
model.fit(X_train, Y_train)
pred = model.predict(x_test)

#Accuracy
from sklearn.metrics import accuracy_score
acc = accuracy_score(y_test, pred)
print("Logistic Regression {:.2f}".format(acc))

#Decision Tree
from sklearn.tree import DecisionTreeClassifier
model = DecisionTreeClassifier()
model.fit(X_train, Y_train)
pred = model.predict(x_test)

#Accuracy
acc = accuracy_score(y_test, pred)
print("Decision Tree {:.2f}".format(acc))

#Naive Bayes
from sklearn.naive_bayes import GaussianNB
model = GaussianNB()
model.fit(X_train, Y_train)
pred = model.predict(x_test)

#Accuracy
acc = accuracy_score(y_test, pred)
print("Naive Bayes {:.2f}".format(acc))

#K - Nearest Neighbors
from sklearn.neighbors import KNeighborsClassifier
model = KNeighborsClassifier()
model.fit(X_train, Y_train)
pred = model.predict(x_test)

#Accuracy
acc = accuracy_score(y_test, pred)
print("K-Nearest Neighbors {:.2f}".format(acc))

#Ensemble - Random Forest
from sklearn.ensemble import RandomForestClassifier
model = RandomForestClassifier()
model.fit(X_train, Y_train)
pred = model.predict(x_test)

#Accuracy
acc = accuracy_score(y_test, pred)
print("Random Forest {:.2f}".format(acc))